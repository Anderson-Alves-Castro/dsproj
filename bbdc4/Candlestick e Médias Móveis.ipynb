{
 "cells": [
  {
   "cell_type": "code",
   "execution_count": 90,
   "metadata": {},
   "outputs": [],
   "source": [
    "#Visualizando Gráfico da Ação BBDC4\n",
    "import plotly\n",
    "import plotly.offline as py\n",
    "import pandas as pd"
   ]
  },
  {
   "cell_type": "code",
   "execution_count": 91,
   "metadata": {},
   "outputs": [
    {
     "data": {
      "text/html": [
       "<div>\n",
       "<style scoped>\n",
       "    .dataframe tbody tr th:only-of-type {\n",
       "        vertical-align: middle;\n",
       "    }\n",
       "\n",
       "    .dataframe tbody tr th {\n",
       "        vertical-align: top;\n",
       "    }\n",
       "\n",
       "    .dataframe thead th {\n",
       "        text-align: right;\n",
       "    }\n",
       "</style>\n",
       "<table border=\"1\" class=\"dataframe\">\n",
       "  <thead>\n",
       "    <tr style=\"text-align: right;\">\n",
       "      <th></th>\n",
       "      <th>Date</th>\n",
       "      <th>Open</th>\n",
       "      <th>High</th>\n",
       "      <th>Low</th>\n",
       "      <th>Close</th>\n",
       "      <th>Adj Close</th>\n",
       "      <th>Volume</th>\n",
       "    </tr>\n",
       "  </thead>\n",
       "  <tbody>\n",
       "    <tr>\n",
       "      <th>0</th>\n",
       "      <td>2015-03-18</td>\n",
       "      <td>18.516800</td>\n",
       "      <td>19.252399</td>\n",
       "      <td>18.167200</td>\n",
       "      <td>19.252399</td>\n",
       "      <td>14.305656</td>\n",
       "      <td>17369550.0</td>\n",
       "    </tr>\n",
       "    <tr>\n",
       "      <th>1</th>\n",
       "      <td>2015-03-19</td>\n",
       "      <td>19.111601</td>\n",
       "      <td>19.142900</td>\n",
       "      <td>18.694201</td>\n",
       "      <td>18.929001</td>\n",
       "      <td>14.065356</td>\n",
       "      <td>11618096.0</td>\n",
       "    </tr>\n",
       "    <tr>\n",
       "      <th>2</th>\n",
       "      <td>2015-03-20</td>\n",
       "      <td>19.085501</td>\n",
       "      <td>19.435101</td>\n",
       "      <td>19.022900</td>\n",
       "      <td>19.221100</td>\n",
       "      <td>14.282405</td>\n",
       "      <td>19569661.0</td>\n",
       "    </tr>\n",
       "    <tr>\n",
       "      <th>3</th>\n",
       "      <td>2015-03-23</td>\n",
       "      <td>19.148100</td>\n",
       "      <td>19.435101</td>\n",
       "      <td>19.028099</td>\n",
       "      <td>19.174200</td>\n",
       "      <td>14.247544</td>\n",
       "      <td>8758853.0</td>\n",
       "    </tr>\n",
       "    <tr>\n",
       "      <th>4</th>\n",
       "      <td>2015-03-24</td>\n",
       "      <td>19.200300</td>\n",
       "      <td>19.393299</td>\n",
       "      <td>18.767200</td>\n",
       "      <td>18.991600</td>\n",
       "      <td>14.111868</td>\n",
       "      <td>9565950.0</td>\n",
       "    </tr>\n",
       "  </tbody>\n",
       "</table>\n",
       "</div>"
      ],
      "text/plain": [
       "         Date       Open       High        Low      Close  Adj Close  \\\n",
       "0  2015-03-18  18.516800  19.252399  18.167200  19.252399  14.305656   \n",
       "1  2015-03-19  19.111601  19.142900  18.694201  18.929001  14.065356   \n",
       "2  2015-03-20  19.085501  19.435101  19.022900  19.221100  14.282405   \n",
       "3  2015-03-23  19.148100  19.435101  19.028099  19.174200  14.247544   \n",
       "4  2015-03-24  19.200300  19.393299  18.767200  18.991600  14.111868   \n",
       "\n",
       "       Volume  \n",
       "0  17369550.0  \n",
       "1  11618096.0  \n",
       "2  19569661.0  \n",
       "3   8758853.0  \n",
       "4   9565950.0  "
      ]
     },
     "execution_count": 91,
     "metadata": {},
     "output_type": "execute_result"
    }
   ],
   "source": [
    "df = pd.read_csv('BBDC4.SA.csv')\n",
    "df.head()"
   ]
  },
  {
   "cell_type": "code",
   "execution_count": 92,
   "metadata": {},
   "outputs": [
    {
     "data": {
      "text/plain": [
       "Renderers configuration\n",
       "-----------------------\n",
       "    Default renderer: 'iframe'\n",
       "    Available renderers:\n",
       "        ['plotly_mimetype', 'jupyterlab', 'nteract', 'vscode',\n",
       "         'notebook', 'notebook_connected', 'kaggle', 'azure', 'colab',\n",
       "         'cocalc', 'databricks', 'json', 'png', 'jpeg', 'jpg', 'svg',\n",
       "         'pdf', 'browser', 'firefox', 'chrome', 'chromium', 'iframe',\n",
       "         'iframe_connected', 'sphinx_gallery']"
      ]
     },
     "execution_count": 92,
     "metadata": {},
     "output_type": "execute_result"
    }
   ],
   "source": [
    "import plotly.io as pio\n",
    "pio.renderers"
   ]
  },
  {
   "cell_type": "code",
   "execution_count": 93,
   "metadata": {},
   "outputs": [],
   "source": [
    "pio.renderers.default = 'iframe'\n",
    "import plotly.graph_objs as go"
   ]
  },
  {
   "cell_type": "code",
   "execution_count": 94,
   "metadata": {},
   "outputs": [],
   "source": [
    "#Gerando as Médias Móveis (MM) simples\n",
    "df['MM_21'] = df.Close.rolling(window=21).mean() #Média Móvel de 21 Períodos\n",
    "df['MM_90'] = df.Close.rolling(window=90).mean() #Média Móvel de 90 Períodos\n",
    "df['MM_200'] = df.Close.rolling(window=200).mean() #Média Móvel de 200 Períodos\n",
    "\n",
    "MM_21 = go.Scatter(\n",
    "    x=df.Date,\n",
    "    y=df['MM_21'],\n",
    "    name = 'MM 21 períodos',\n",
    "    line = dict(color = '#00FF00'),\n",
    "    opacity = 0.8)\n",
    "\n",
    "MM_90 = go.Scatter(\n",
    "    x=df.Date,\n",
    "    y=df['MM_90'],\n",
    "    name = 'MM 90 períodos',\n",
    "    line = dict(color = '#FF8C00'),\n",
    "    opacity = 0.8)\n",
    "\n",
    "MM_200 = go.Scatter(\n",
    "    x=df.Date,\n",
    "    y=df['MM_200'],\n",
    "    name = 'MM 200 períodos',\n",
    "    line = dict(color = '#000000'),\n",
    "    opacity = 0.8)"
   ]
  },
  {
   "cell_type": "code",
   "execution_count": 95,
   "metadata": {},
   "outputs": [],
   "source": [
    "#Gerando o gráfico de Candlestick\n",
    "trace = go.Candlestick(x=df['Date'],\n",
    "                      open=df['Open'],\n",
    "                      high=df['High'],\n",
    "                      low=df['Low'],\n",
    "                      close=df['Close'])\n",
    "\n",
    "close = go.Scatter(\n",
    "    x=df.Date,\n",
    "    y=df.Close,\n",
    "    name = 'BBDC4 Close',\n",
    "    line = dict(color = '#330000'),\n",
    "    opacity = 0.8)"
   ]
  },
  {
   "cell_type": "code",
   "execution_count": 96,
   "metadata": {},
   "outputs": [
    {
     "data": {
      "text/html": [
       "<iframe\n",
       "    scrolling=\"no\"\n",
       "    width=\"100%\"\n",
       "    height=\"545px\"\n",
       "    src=\"iframe_figures/figure_96.html\"\n",
       "    frameborder=\"0\"\n",
       "    allowfullscreen\n",
       "></iframe>\n"
      ]
     },
     "metadata": {},
     "output_type": "display_data"
    }
   ],
   "source": [
    "data = [trace, MM_21, MM_90, MM_200]\n",
    "py.iplot(data, filename='simple_candlestick')"
   ]
  },
  {
   "cell_type": "code",
   "execution_count": null,
   "metadata": {},
   "outputs": [],
   "source": []
  }
 ],
 "metadata": {
  "kernelspec": {
   "display_name": "Python 3",
   "language": "python",
   "name": "python3"
  },
  "language_info": {
   "codemirror_mode": {
    "name": "ipython",
    "version": 3
   },
   "file_extension": ".py",
   "mimetype": "text/x-python",
   "name": "python",
   "nbconvert_exporter": "python",
   "pygments_lexer": "ipython3",
   "version": "3.7.6"
  }
 },
 "nbformat": 4,
 "nbformat_minor": 4
}
